{
 "cells": [
  {
   "cell_type": "markdown",
   "metadata": {},
   "source": [
    "### Running API data ingest against Tableau hyper volume\n",
    "\n",
    "- Date: 2024-05-06\n",
    "- Author: MvS\n",
    "\n",
    "[Snippet](https://github.com/tableau/hyper-api-samples/tree/main/Community-Supported/flights-data-incremental-refresh),  \n",
    "[OpenSkyAPI](https://openskynetwork.github.io/opensky-api/rest.html),  \n",
    "[Geospatial Bounding Box](http://bboxfinder.com/)\n",
    "\n",
    "\n",
    "\n",
    "#### Install\n",
    "\n",
    "1. Create python virtual environment containing jupyter\n",
    "2. Source environment and run `pip install -r requirements-openskyapi.txt`\n",
    "3. "
   ]
  },
  {
   "cell_type": "code",
   "execution_count": 3,
   "metadata": {},
   "outputs": [],
   "source": [
    "from tableauhyperapi import HyperProcess, Connection, Telemetry, TableDefinition, TableName, CreateMode, SqlType, Nullability, Inserter\n",
    "from opensky_api import OpenSkyApi\n",
    "import tableauserverclient as TSC\n",
    "import uuid\n",
    "import argparse"
   ]
  },
  {
   "cell_type": "code",
   "execution_count": 2,
   "metadata": {},
   "outputs": [],
   "source": [
    "def create_hyper_database_with_flights_data(database_path):\n",
    "    \"\"\"\n",
    "    Leverages the OpenSkyAPI (https://github.com/openskynetwork/opensky-api) to create a \n",
    "    Hyper database with flights data.  \n",
    "    \"\"\"\n",
    "    # Create an instance of the opensky api to retrieve data from OpenSky via HTTP.\n",
    "    opensky = OpenSkyApi()\n",
    "    # Get the most recent state vector. Note that we can only call this method every \n",
    "    # 10 seconds as we are using the free version of the API.\n",
    "    # Switzerland\n",
    "    #states = opensky.get_states(bbox=(45.8389, 47.8229, 5.9962, 10.5226))\n",
    "    # Berlin\n",
    "    states = opensky.get_states(bbox=(51.971346, 52.918839, 12.079468, 14.414063))\n",
    "\n",
    "    # Start up a local Hyper process. \n",
    "    with HyperProcess(telemetry=Telemetry.SEND_USAGE_DATA_TO_TABLEAU) as hyper:\n",
    "        # Create a connection to the Hyper process and connect to a hyper file \n",
    "        # (create the file and replace if it exists).\n",
    "        with Connection(endpoint=hyper.endpoint, database=database_path, create_mode=CreateMode.CREATE_AND_REPLACE) as connection:\n",
    "            # Create a table definition with table name \"flights\" in the \"public\" schema \n",
    "            # and columns for airport data.\n",
    "            table_definition = TableDefinition(\n",
    "                table_name=TableName(\"public\", \"flights\"),\n",
    "                columns=[\n",
    "                    TableDefinition.Column('baro_altitude', SqlType.double(), Nullability.NULLABLE),\n",
    "                    TableDefinition.Column('callsign', SqlType.text(), Nullability.NOT_NULLABLE),\n",
    "                    TableDefinition.Column('latitude', SqlType.double(), Nullability.NULLABLE),\n",
    "                    TableDefinition.Column('longitude', SqlType.double(), Nullability.NULLABLE),\n",
    "                    TableDefinition.Column('on_ground', SqlType.bool(), Nullability.NOT_NULLABLE),\n",
    "                    TableDefinition.Column('origin_country', SqlType.text(), Nullability.NOT_NULLABLE),\n",
    "                    TableDefinition.Column('time_position', SqlType.int(), Nullability.NULLABLE),\n",
    "                    TableDefinition.Column('velocity', SqlType.double(), Nullability.NULLABLE),\n",
    "                ])\n",
    "            # Create the flights table.\n",
    "            connection.catalog.create_table(table_definition)\n",
    "\n",
    "            # Insert each of the states into the table.\n",
    "            with Inserter(connection, table_definition) as inserter:\n",
    "                for s in states.states:\n",
    "                    inserter.add_row([s.baro_altitude, s.callsign, s.latitude, s.longitude, s.on_ground, s.origin_country, s.time_position, s.velocity])\n",
    "                inserter.execute()\n",
    "\n",
    "            num_flights = connection.execute_scalar_query(query=f\"SELECT COUNT(*) from {table_definition.table_name}\")\n",
    "            print(f\"Inserted {num_flights} flights into {database_path}.\")"
   ]
  },
  {
   "cell_type": "code",
   "execution_count": 6,
   "metadata": {},
   "outputs": [
    {
     "name": "stdout",
     "output_type": "stream",
     "text": [
      "Inserted 17 flights into flights.hyper.\n"
     ]
    }
   ],
   "source": [
    "# argparser = argparse.ArgumentParser(description=\"Incremental refresh with flights data.\")\n",
    "# argparser.add_argument(\"server_url\", help=\"The url of Tableau Server / Cloud, e.g. 'https://us-west-2a.online.tableau.com'\")\n",
    "# argparser.add_argument(\"site_name\", help=\"The name of your site, e.g., use 'default' for your default site. Note that you cannot use 'default' in Tableau Cloud but must use the site name.\", default='default')\n",
    "# argparser.add_argument(\"project_name\", help=\"The name of your project, e.g., use an empty string ('') for your default project.\", default=\"\")\n",
    "# argparser.add_argument(\"token_name\", help=\"The name of your authentication token for Tableau Server/Cloud. See this url for more details: https://help.tableau.com/current/server/en-us/security_personal_access_tokens.htm\")\n",
    "# argparser.add_argument(\"token_value\", help=\"The value of your authentication token for Tableau Server/Cloud. See this url for more details: https://help.tableau.com/current/server/en-us/security_personal_access_tokens.htm\")\n",
    "# args = argparser.parse_args()\n",
    "\n",
    "# First create the hyper database with flights data.\n",
    "database_path = \"flights.hyper\"\n",
    "create_hyper_database_with_flights_data(database_path)\n",
    "\n",
    "# # Then publish the data to server.\n",
    "# datasource_name_on_server = 'flights_data_set'\n",
    "# # Create credentials to sign into Tableau Server.\n",
    "# tableau_auth = TSC.PersonalAccessTokenAuth(args.token_name, args.token_value, args.site_name)\n",
    "# publish_to_server(args.server_url, tableau_auth, args.project_name, database_path, datasource_name_on_server)"
   ]
  }
 ],
 "metadata": {
  "kernelspec": {
   "display_name": "dbt-env",
   "language": "python",
   "name": "python3"
  },
  "language_info": {
   "codemirror_mode": {
    "name": "ipython",
    "version": 3
   },
   "file_extension": ".py",
   "mimetype": "text/x-python",
   "name": "python",
   "nbconvert_exporter": "python",
   "pygments_lexer": "ipython3",
   "version": "3.10.12"
  }
 },
 "nbformat": 4,
 "nbformat_minor": 2
}
